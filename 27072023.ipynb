{
  "nbformat": 4,
  "nbformat_minor": 0,
  "metadata": {
    "colab": {
      "provenance": [],
      "authorship_tag": "ABX9TyPGoO5RN5wNAbh105iis+u8"
    },
    "kernelspec": {
      "name": "python3",
      "display_name": "Python 3"
    },
    "language_info": {
      "name": "python"
    }
  },
  "cells": [
    {
      "cell_type": "code",
      "execution_count": 1,
      "metadata": {
        "colab": {
          "base_uri": "https://localhost:8080/"
        },
        "id": "V0zBWViYjKOg",
        "outputId": "cdcece28-fd95-49f2-e8c1-aefcd9df7f40"
      },
      "outputs": [
        {
          "output_type": "stream",
          "name": "stdout",
          "text": [
            "[9, 8, 1, 7, 2]\n"
          ]
        }
      ],
      "source": [
        "nums=[9,81,72]\n",
        "s=\"\"\n",
        "for i in nums:\n",
        "    s=s+str(i)\n",
        "res=[]\n",
        "for i in s:\n",
        "  res.append(int(i))\n",
        "print(res)"
      ]
    }
  ]
}